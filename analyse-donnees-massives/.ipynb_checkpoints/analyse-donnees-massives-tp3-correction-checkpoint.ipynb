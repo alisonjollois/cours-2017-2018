{
 "cells": [
  {
   "cell_type": "markdown",
   "metadata": {},
   "source": [
    "# TP3 - Introduction à `Python` - *correction*\n",
    "\n",
    "### Analyse de Données Massives - Master 1ère année\n",
    "\n",
    "## Exercice\n",
    "\n",
    "Le fichier contient les informations de 150 iris, répartis en 3 espèces et décrits par 4 variables. Voici quelques informations sur ce fichier.\n",
    "\n",
    "#### 1. Télécharger le fichier et importer les lignes dans python comme ci-dessus"
   ]
  },
  {
   "cell_type": "code",
   "execution_count": 1,
   "metadata": {},
   "outputs": [
    {
     "ename": "FileNotFoundError",
     "evalue": "[Errno 2] No such file or directory: 'donnees/Iris.txt'",
     "output_type": "error",
     "traceback": [
      "\u001b[0;31m---------------------------------------------------------------------------\u001b[0m",
      "\u001b[0;31mFileNotFoundError\u001b[0m                         Traceback (most recent call last)",
      "\u001b[0;32m<ipython-input-1-046fb48124b8>\u001b[0m in \u001b[0;36m<module>\u001b[0;34m()\u001b[0m\n\u001b[0;32m----> 1\u001b[0;31m \u001b[0mfichier\u001b[0m \u001b[0;34m=\u001b[0m \u001b[0mopen\u001b[0m\u001b[0;34m(\u001b[0m\u001b[0;34m\"donnees/Iris.txt\"\u001b[0m\u001b[0;34m)\u001b[0m\u001b[0;34m\u001b[0m\u001b[0m\n\u001b[0m\u001b[1;32m      2\u001b[0m \u001b[0mlignesBrutes\u001b[0m \u001b[0;34m=\u001b[0m \u001b[0mfichier\u001b[0m\u001b[0;34m.\u001b[0m\u001b[0mreadlines\u001b[0m\u001b[0;34m(\u001b[0m\u001b[0;34m)\u001b[0m\u001b[0;34m\u001b[0m\u001b[0m\n\u001b[1;32m      3\u001b[0m \u001b[0mfichier\u001b[0m\u001b[0;34m.\u001b[0m\u001b[0mclose\u001b[0m\u001b[0;34m(\u001b[0m\u001b[0;34m)\u001b[0m\u001b[0;34m\u001b[0m\u001b[0m\n\u001b[1;32m      4\u001b[0m \u001b[0mlignesBrutes\u001b[0m\u001b[0;34m\u001b[0m\u001b[0m\n",
      "\u001b[0;31mFileNotFoundError\u001b[0m: [Errno 2] No such file or directory: 'donnees/Iris.txt'"
     ]
    }
   ],
   "source": [
    "fichier = open(\"donnees/Iris.txt\")\n",
    "lignesBrutes = fichier.readlines()\n",
    "fichier.close()\n",
    "lignesBrutes"
   ]
  },
  {
   "cell_type": "markdown",
   "metadata": {},
   "source": [
    "#### 2. A partir de la liste de chaînes obtenue, créer une liste de 151 listes.\n",
    "\n",
    "Chaque sous-liste contiendra les 5 informations présentes sur chaque ligne (séparées par des `\";\"`). Supprimer les quotes (`\"'\"`) et le caractère de fin de ligne (`\"\\n\"`)."
   ]
  },
  {
   "cell_type": "code",
   "execution_count": null,
   "metadata": {},
   "outputs": [],
   "source": [
    "lignes = [l.replace(\"'\", \"\").replace(\"\\n\", \"\").split(\";\") for l in lignesBrutes]\n",
    "lignes[:10]"
   ]
  },
  {
   "cell_type": "markdown",
   "metadata": {},
   "source": [
    "#### 3. Créer une fonction permettant de transformer une chaîne en réel\n",
    "\n",
    "- si cette chaîne n’est pas transformable, renvoyer la telle quelle\n",
    "- Exemple : `f(\"1.234\")` renverra `1.234`, mais `f(\"rien\")` renverra `\"rien\"`"
   ]
  },
  {
   "cell_type": "code",
   "execution_count": null,
   "metadata": {},
   "outputs": [],
   "source": [
    "def enReel(v):\n",
    "    try:\n",
    "        res = float(v)\n",
    "    except:\n",
    "        res = v\n",
    "    finally:\n",
    "        return res\n",
    "print(enReel(\"1.234\"))\n",
    "print(enReel(\"setosa\"))"
   ]
  },
  {
   "cell_type": "markdown",
   "metadata": {},
   "source": [
    "#### 4. Créer une liste de 150 dictionnaires, chaque dictionnaire sera un iris, avec des champs nommés.\n",
    "\n",
    "Les noms des variables sont sur la première ligne de la liste précédemment créée."
   ]
  },
  {
   "cell_type": "code",
   "execution_count": null,
   "metadata": {},
   "outputs": [],
   "source": [
    "lignes[0]"
   ]
  },
  {
   "cell_type": "markdown",
   "metadata": {},
   "source": [
    "Chaque ligne contient donc les informations d'un iris."
   ]
  },
  {
   "cell_type": "code",
   "execution_count": null,
   "metadata": {},
   "outputs": [],
   "source": [
    "lignes[1]"
   ]
  },
  {
   "cell_type": "markdown",
   "metadata": {},
   "source": [
    "Avec la fonction `zip()`, on peut donc créer un dictionnaire, via une *list comprehension*."
   ]
  },
  {
   "cell_type": "code",
   "execution_count": null,
   "metadata": {},
   "outputs": [],
   "source": [
    "for cle, valeur in zip(lignes[0], lignes[1]):\n",
    "    print(\"cle =\", cle, \"\\t; valeur =\", valeur)"
   ]
  },
  {
   "cell_type": "code",
   "execution_count": null,
   "metadata": {},
   "outputs": [],
   "source": [
    "{cle:val for cle, val in zip(lignes[0], lignes[1])}"
   ]
  },
  {
   "cell_type": "markdown",
   "metadata": {},
   "source": [
    "En utilisant la fonction `enReel()` créée précédemment, nous arrivons à créer un objet tel que nous le souhaitons."
   ]
  },
  {
   "cell_type": "code",
   "execution_count": null,
   "metadata": {},
   "outputs": [],
   "source": [
    "{cle:enReel(val) for cle, val in zip(lignes[0], lignes[1])}"
   ]
  },
  {
   "cell_type": "markdown",
   "metadata": {},
   "source": [
    "Une boucle `for` sur chaque ligne permet de compléter un objet au fur et à mesure, comme ci-dessous."
   ]
  },
  {
   "cell_type": "code",
   "execution_count": null,
   "metadata": {},
   "outputs": [],
   "source": [
    "donnees = []\n",
    "for i, l in enumerate(lignes):\n",
    "    if i == 0:\n",
    "        var = l\n",
    "    else:\n",
    "        donnees.append({cle:enReel(val) for cle, val in zip(var, l)})\n",
    "donnees[:3]"
   ]
  },
  {
   "cell_type": "markdown",
   "metadata": {},
   "source": [
    "Mais la bonne façon de faire en `python` et d'utiliser une *list comprehension* pour naviguer sur chaque ligne de `lignes`."
   ]
  },
  {
   "cell_type": "code",
   "execution_count": null,
   "metadata": {},
   "outputs": [],
   "source": [
    "iris = [{cle:enReel(val) for cle, val in zip(lignes[0], l)} for l in lignes[1:]]\n",
    "iris[:3]"
   ]
  },
  {
   "cell_type": "markdown",
   "metadata": {},
   "source": [
    "#### 5. Calculer pour chaque iris le rapport entre la surface d’un pétale et la surface d’un sépale.\n",
    "\n",
    "La surface de chaque dépend uniquement du produit de la largeur et de la longueur. On fera donc le rapport entre les deux produits."
   ]
  },
  {
   "cell_type": "code",
   "execution_count": null,
   "metadata": {},
   "outputs": [],
   "source": [
    "def surface(ir):\n",
    "    ir = ir.copy()\n",
    "    ir['Petal.Surface'] = ir['Petal.Length'] * ir['Petal.Width']\n",
    "    ir['Sepal.Surface'] = ir['Sepal.Length'] * ir['Sepal.Width']\n",
    "    ir['Ratio'] = ir['Petal.Surface'] / ir['Sepal.Surface']\n",
    "    return ir\n",
    "irisSurface = list(map(surface, iris))\n",
    "irisSurface[:3]"
   ]
  },
  {
   "cell_type": "markdown",
   "metadata": {},
   "source": [
    "#### 6. Créer une sous-liste ne contenant que les iris `\"setosa\"`."
   ]
  },
  {
   "cell_type": "code",
   "execution_count": null,
   "metadata": {},
   "outputs": [],
   "source": [
    "irisSetosa = list(filter(lambda i: i['Species'] == 'setosa', irisSurface))\n",
    "len(irisSetosa)"
   ]
  },
  {
   "cell_type": "markdown",
   "metadata": {},
   "source": [
    "#### 7. Calculer la moyenne de chaque variable."
   ]
  },
  {
   "cell_type": "code",
   "execution_count": null,
   "metadata": {},
   "outputs": [],
   "source": [
    "def sommeVariable(irA, irB):\n",
    "    ir = irA.copy()\n",
    "    ir.pop(\"Species\", None)\n",
    "    for var in ['Petal.Length', 'Petal.Width', 'Sepal.Length', 'Sepal.Width']:\n",
    "        ir[var] = irA[var] + irB[var]\n",
    "    return ir\n",
    "\n",
    "import functools\n",
    "irisMoyenne = functools.reduce(sommeVariable, iris)\n",
    "irisMoyenne"
   ]
  },
  {
   "cell_type": "code",
   "execution_count": null,
   "metadata": {},
   "outputs": [],
   "source": [
    "{cle:(round(irisMoyenne[cle] / len(iris), 2)) for cle in irisMoyenne}"
   ]
  },
  {
   "cell_type": "markdown",
   "metadata": {},
   "source": [
    "#### 8. Calculer la moyenne de chaque variable pour chaque espèce."
   ]
  },
  {
   "cell_type": "code",
   "execution_count": null,
   "metadata": {},
   "outputs": [],
   "source": [
    "especes = list(set([i['Species'] for i in iris]))\n",
    "groupes = [list(filter(lambda i: i['Species'] == s, iris)) for s in especes]\n",
    "sommes = [functools.reduce(sommeVariable, g) for g in groupes]\n",
    "tailles = [len(g) for g in groupes]\n",
    "\n",
    "[{cle:(sommes[i][cle] / tailles[i]) for cle in sommes[i]} for i in range(len(especes))]"
   ]
  },
  {
   "cell_type": "code",
   "execution_count": null,
   "metadata": {},
   "outputs": [],
   "source": []
  }
 ],
 "metadata": {
  "kernelspec": {
   "display_name": "Python 3",
   "language": "python",
   "name": "python3"
  },
  "language_info": {
   "codemirror_mode": {
    "name": "ipython",
    "version": 3
   },
   "file_extension": ".py",
   "mimetype": "text/x-python",
   "name": "python",
   "nbconvert_exporter": "python",
   "pygments_lexer": "ipython3",
   "version": "3.5.2"
  }
 },
 "nbformat": 4,
 "nbformat_minor": 2
}
